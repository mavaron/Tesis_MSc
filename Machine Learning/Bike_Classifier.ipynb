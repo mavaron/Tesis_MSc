{
 "cells": [
  {
   "cell_type": "code",
   "execution_count": 131,
   "metadata": {
    "collapsed": false
   },
   "outputs": [],
   "source": [
    "import graphlab\n",
    "import os\n",
    "from graphlab import mxnet as mx\n",
    "#Limitacion de Hilos\n",
    "graphlab.set_runtime_config('GRAPHLAB_DEFAULT_NUM_PYLAMBDA_WORKERS', 4)\n",
    "#Descarga y guardar el modelo iter45\n",
    "pretrained_model_iter_45=graphlab.load_model('http://s3.amazonaws.com/GraphLab-Datasets/deeplearning/imagenet_model_iter45')\n",
    "pretrained_model_iter_45.save('imagenet_model_iter45')\n",
    "#Carga inception_1k_v3 (https://github.com/dmlc/mxnet-model-gallery/blob/master/imagenet-1k-inception-v3.md)\n",
    "pretrained_model_inceptionv3=mx.pretrained_model.load_path('F:\\\\MSc Misis\\\\4 Semestre\\\\Tesis 1\\\\Modelos\\\\imagenet1k_inception_v3')\n",
    "#Carga inception_21k (https://github.com/dmlc/mxnet-model-gallery/blob/master/imagenet-21k-inception.md)\n",
    "pretrained_model_inception21k=mx.pretrained_model.load_path('F:\\\\MSc Misis\\\\4 Semestre\\\\Tesis 1\\\\Modelos\\\\imagenet21k_inception_bn')"
   ]
  },
  {
   "cell_type": "code",
   "execution_count": 98,
   "metadata": {
    "collapsed": false
   },
   "outputs": [],
   "source": [
    "\n",
    "#creación de SArray para introducir columna de label en Training set\n",
    "def Label_Training_column_set(num_images_Class1,num_label_Class1):\n",
    "    a=[]\n",
    "    b=[num_label_Class1]\n",
    "    i=0\n",
    "    if(i<num_images_Class1):\n",
    "        while (i<num_images_Class1):\n",
    "            a.extend(b)\n",
    "            i=i+1\n",
    "    label_array=graphlab.SArray(data=a, dtype=int)\n",
    "    return label_array\n",
    "\n",
    "\n",
    "\n",
    "#Función Preprocesamiento del Set de Datos de Entrenamiento\n",
    "def Preproc_set(path, number_images_Class, num_label_Class):\n",
    "    Path_images=path \n",
    "    image_sframe = graphlab.image_analysis.load_images(Path_images, \"jpg\", with_path=True,recursive=True)\n",
    "    image_sframe['resized']=graphlab.image_analysis.resize(image_sframe['image'], 500, 500, 1)\n",
    "    label_array=Label_Training_column_set(number_images_Class,num_label_Class )\n",
    "    image_sframe.add_column(label_array, name='label')\n",
    "    return image_sframe\n",
    "              \n",
    "#Carga de los datos\n",
    "TS1= Preproc_set(\"C:\\\\Users\\\\IngMario\\\\Documents\\\\Data\\\\Untitled Folder\\\\DS_Final_Moto\",57,1)\n",
    "TS2= Preproc_set(\"C:\\\\Users\\\\IngMario\\\\Documents\\\\Data\\\\Untitled Folder\\\\DS_Final_No_Moto\",52,0)\n",
    "TS1=TS1.append(TS2)\n",
    "\n",
    "Test_d1= Preproc_set(\"C:\\\\Users\\\\IngMario\\\\Documents\\\\Data\\\\Untitled Folder\\\\DS_Test_Moto\",16,1)\n",
    "Test_d2= Preproc_set(\"C:\\\\Users\\\\IngMario\\\\Documents\\\\Data\\\\Untitled Folder\\\\DS_Test_No_Moto\",19,0)\n",
    "Test_d1=Test_d1.append(Test_d2)\n",
    "\n",
    "\n",
    "               \n",
    "\n"
   ]
  },
  {
   "cell_type": "code",
   "execution_count": 47,
   "metadata": {
    "collapsed": false
   },
   "outputs": [
    {
     "data": {
      "text/plain": [
       "Class               : NeuralNetClassifier\n",
       "\n",
       "Schema\n",
       "------\n",
       "Examples            : 1281166\n",
       "Features            : 1\n",
       "Target column       : label\n",
       "\n",
       "Training Summary\n",
       "----------------\n",
       "Training accuracy   : 0.625\n",
       "Validation accuracy : None\n",
       "Training recall@5   : 0.8512\n",
       "Validation recall@5 : None\n",
       "Training time (sec) : 288884.0298"
      ]
     },
     "execution_count": 47,
     "metadata": {},
     "output_type": "execute_result"
    }
   ],
   "source": [
    "#Carga de modelos\n",
    "pretrained_model_iter_45=graphlab.load_model('imagenet_model_iter45')\n"
   ]
  },
  {
   "cell_type": "code",
   "execution_count": 132,
   "metadata": {
    "collapsed": false
   },
   "outputs": [
    {
     "data": {
      "text/html": [
       "<pre>Images being resized.</pre>"
      ],
      "text/plain": [
       "Images being resized."
      ]
     },
     "metadata": {},
     "output_type": "display_data"
    },
    {
     "name": "stderr",
     "output_type": "stream",
     "text": [
      "[INFO] graphlab.mxnet.pretrained_model: Detect image shape mismatches network input shape. Perform resize to shape (299, 299, 3)\n",
      "[INFO] graphlab.mxnet.pretrained_model: Detect image shape mismatches network input shape. Perform resize to shape (224, 224, 3)\n"
     ]
    },
    {
     "data": {
      "text/html": [
       "<pre>Images being resized.</pre>"
      ],
      "text/plain": [
       "Images being resized."
      ]
     },
     "metadata": {},
     "output_type": "display_data"
    },
    {
     "name": "stderr",
     "output_type": "stream",
     "text": [
      "[INFO] graphlab.mxnet.pretrained_model: Detect image shape mismatches network input shape. Perform resize to shape (299, 299, 3)\n",
      "[INFO] graphlab.mxnet.pretrained_model: Detect image shape mismatches network input shape. Perform resize to shape (224, 224, 3)\n"
     ]
    }
   ],
   "source": [
    "#Extracción de Caracerísticas de DataSet de Entrenamiento y Prueba con modelos iter_45, inceptionv3, inception21k\n",
    "TS1['features_iter_45']= pretrained_model_iter_45.extract_features(TS1[['image']])\n",
    "TS1['features_inceptionv3']= pretrained_model_inceptionv3.extract_features(TS1[['image']])\n",
    "TS1['features_inception21K']= pretrained_model_inception21k.extract_features(TS1[['image']])\n",
    "Test_d1['features_iter_45']= pretrained_model_iter_45.extract_features(Test_d1[['image']])\n",
    "Test_d1['features_inceptionv3']= pretrained_model_inceptionv3.extract_features(Test_d1[['image']])\n",
    "Test_d1['features_inception21K']= pretrained_model_inception21k.extract_features(Test_d1[['image']])\n",
    "TS1.save('TS.sframe')\n",
    "Test_d1.save('Test_d.sframe')"
   ]
  },
  {
   "cell_type": "code",
   "execution_count": 153,
   "metadata": {
    "collapsed": false
   },
   "outputs": [
    {
     "data": {
      "text/html": [
       "<pre>WARNING: The number of feature dimensions in this problem is very large in comparison with the number of examples. Unless an appropriate regularization value is set, this model may not provide accurate predictions for a validation/test set.</pre>"
      ],
      "text/plain": [
       "WARNING: The number of feature dimensions in this problem is very large in comparison with the number of examples. Unless an appropriate regularization value is set, this model may not provide accurate predictions for a validation/test set."
      ]
     },
     "metadata": {},
     "output_type": "display_data"
    },
    {
     "data": {
      "text/html": [
       "<pre>WARNING: Detected extremely low variance for feature(s) 'features_iter_45', 'features_inception21K' because all entries are nearly the same.\n",
       "Proceeding with model training using all features. If the model does not provide results of adequate quality, exclude the above mentioned feature(s) from the input dataset.</pre>"
      ],
      "text/plain": [
       "WARNING: Detected extremely low variance for feature(s) 'features_iter_45', 'features_inception21K' because all entries are nearly the same.\n",
       "Proceeding with model training using all features. If the model does not provide results of adequate quality, exclude the above mentioned feature(s) from the input dataset."
      ]
     },
     "metadata": {},
     "output_type": "display_data"
    },
    {
     "data": {
      "text/html": [
       "<pre>Boosted trees classifier:</pre>"
      ],
      "text/plain": [
       "Boosted trees classifier:"
      ]
     },
     "metadata": {},
     "output_type": "display_data"
    },
    {
     "data": {
      "text/html": [
       "<pre>--------------------------------------------------------</pre>"
      ],
      "text/plain": [
       "--------------------------------------------------------"
      ]
     },
     "metadata": {},
     "output_type": "display_data"
    },
    {
     "data": {
      "text/html": [
       "<pre>Number of examples          : 100</pre>"
      ],
      "text/plain": [
       "Number of examples          : 100"
      ]
     },
     "metadata": {},
     "output_type": "display_data"
    },
    {
     "data": {
      "text/html": [
       "<pre>Number of classes           : 2</pre>"
      ],
      "text/plain": [
       "Number of classes           : 2"
      ]
     },
     "metadata": {},
     "output_type": "display_data"
    },
    {
     "data": {
      "text/html": [
       "<pre>Number of feature columns   : 3</pre>"
      ],
      "text/plain": [
       "Number of feature columns   : 3"
      ]
     },
     "metadata": {},
     "output_type": "display_data"
    },
    {
     "data": {
      "text/html": [
       "<pre>Number of unpacked features : 7168</pre>"
      ],
      "text/plain": [
       "Number of unpacked features : 7168"
      ]
     },
     "metadata": {},
     "output_type": "display_data"
    },
    {
     "data": {
      "text/html": [
       "<pre>+-----------+--------------+-------------------+---------------------+</pre>"
      ],
      "text/plain": [
       "+-----------+--------------+-------------------+---------------------+"
      ]
     },
     "metadata": {},
     "output_type": "display_data"
    },
    {
     "data": {
      "text/html": [
       "<pre>| Iteration | Elapsed Time | Training-accuracy | Validation-accuracy |</pre>"
      ],
      "text/plain": [
       "| Iteration | Elapsed Time | Training-accuracy | Validation-accuracy |"
      ]
     },
     "metadata": {},
     "output_type": "display_data"
    },
    {
     "data": {
      "text/html": [
       "<pre>+-----------+--------------+-------------------+---------------------+</pre>"
      ],
      "text/plain": [
       "+-----------+--------------+-------------------+---------------------+"
      ]
     },
     "metadata": {},
     "output_type": "display_data"
    },
    {
     "data": {
      "text/html": [
       "<pre>| 1         | 0.063042     | 1.000000          | 1.000000            |</pre>"
      ],
      "text/plain": [
       "| 1         | 0.063042     | 1.000000          | 1.000000            |"
      ]
     },
     "metadata": {},
     "output_type": "display_data"
    },
    {
     "data": {
      "text/html": [
       "<pre>| 2         | 0.132098     | 1.000000          | 1.000000            |</pre>"
      ],
      "text/plain": [
       "| 2         | 0.132098     | 1.000000          | 1.000000            |"
      ]
     },
     "metadata": {},
     "output_type": "display_data"
    },
    {
     "data": {
      "text/html": [
       "<pre>| 3         | 0.172119     | 1.000000          | 1.000000            |</pre>"
      ],
      "text/plain": [
       "| 3         | 0.172119     | 1.000000          | 1.000000            |"
      ]
     },
     "metadata": {},
     "output_type": "display_data"
    },
    {
     "data": {
      "text/html": [
       "<pre>| 4         | 0.206144     | 1.000000          | 0.888889            |</pre>"
      ],
      "text/plain": [
       "| 4         | 0.206144     | 1.000000          | 0.888889            |"
      ]
     },
     "metadata": {},
     "output_type": "display_data"
    },
    {
     "data": {
      "text/html": [
       "<pre>+-----------+--------------+-------------------+---------------------+</pre>"
      ],
      "text/plain": [
       "+-----------+--------------+-------------------+---------------------+"
      ]
     },
     "metadata": {},
     "output_type": "display_data"
    },
    {
     "data": {
      "text/html": [
       "<pre>Early stop triggered. Returning the best model at iteration: 1</pre>"
      ],
      "text/plain": [
       "Early stop triggered. Returning the best model at iteration: 1"
      ]
     },
     "metadata": {},
     "output_type": "display_data"
    },
    {
     "data": {
      "text/html": [
       "<pre>WARNING: The number of feature dimensions in this problem is very large in comparison with the number of examples. Unless an appropriate regularization value is set, this model may not provide accurate predictions for a validation/test set.</pre>"
      ],
      "text/plain": [
       "WARNING: The number of feature dimensions in this problem is very large in comparison with the number of examples. Unless an appropriate regularization value is set, this model may not provide accurate predictions for a validation/test set."
      ]
     },
     "metadata": {},
     "output_type": "display_data"
    },
    {
     "data": {
      "text/html": [
       "<pre>WARNING: Detected extremely low variance for feature(s) 'features_iter_45', 'features_inception21K' because all entries are nearly the same.\n",
       "Proceeding with model training using all features. If the model does not provide results of adequate quality, exclude the above mentioned feature(s) from the input dataset.</pre>"
      ],
      "text/plain": [
       "WARNING: Detected extremely low variance for feature(s) 'features_iter_45', 'features_inception21K' because all entries are nearly the same.\n",
       "Proceeding with model training using all features. If the model does not provide results of adequate quality, exclude the above mentioned feature(s) from the input dataset."
      ]
     },
     "metadata": {},
     "output_type": "display_data"
    },
    {
     "data": {
      "text/html": [
       "<pre>Decision tree classifier:</pre>"
      ],
      "text/plain": [
       "Decision tree classifier:"
      ]
     },
     "metadata": {},
     "output_type": "display_data"
    },
    {
     "data": {
      "text/html": [
       "<pre>--------------------------------------------------------</pre>"
      ],
      "text/plain": [
       "--------------------------------------------------------"
      ]
     },
     "metadata": {},
     "output_type": "display_data"
    },
    {
     "data": {
      "text/html": [
       "<pre>Number of examples          : 100</pre>"
      ],
      "text/plain": [
       "Number of examples          : 100"
      ]
     },
     "metadata": {},
     "output_type": "display_data"
    },
    {
     "data": {
      "text/html": [
       "<pre>Number of classes           : 2</pre>"
      ],
      "text/plain": [
       "Number of classes           : 2"
      ]
     },
     "metadata": {},
     "output_type": "display_data"
    },
    {
     "data": {
      "text/html": [
       "<pre>Number of feature columns   : 3</pre>"
      ],
      "text/plain": [
       "Number of feature columns   : 3"
      ]
     },
     "metadata": {},
     "output_type": "display_data"
    },
    {
     "data": {
      "text/html": [
       "<pre>Number of unpacked features : 7168</pre>"
      ],
      "text/plain": [
       "Number of unpacked features : 7168"
      ]
     },
     "metadata": {},
     "output_type": "display_data"
    },
    {
     "data": {
      "text/html": [
       "<pre>+-----------+--------------+-------------------+---------------------+-------------------+---------------------+</pre>"
      ],
      "text/plain": [
       "+-----------+--------------+-------------------+---------------------+-------------------+---------------------+"
      ]
     },
     "metadata": {},
     "output_type": "display_data"
    },
    {
     "data": {
      "text/html": [
       "<pre>| Iteration | Elapsed Time | Training-accuracy | Validation-accuracy | Training-log_loss | Validation-log_loss |</pre>"
      ],
      "text/plain": [
       "| Iteration | Elapsed Time | Training-accuracy | Validation-accuracy | Training-log_loss | Validation-log_loss |"
      ]
     },
     "metadata": {},
     "output_type": "display_data"
    },
    {
     "data": {
      "text/html": [
       "<pre>+-----------+--------------+-------------------+---------------------+-------------------+---------------------+</pre>"
      ],
      "text/plain": [
       "+-----------+--------------+-------------------+---------------------+-------------------+---------------------+"
      ]
     },
     "metadata": {},
     "output_type": "display_data"
    },
    {
     "data": {
      "text/html": [
       "<pre>| 1         | 0.092060     | 1.000000          | 1.000000            | 0.456655          | 0.453863            |</pre>"
      ],
      "text/plain": [
       "| 1         | 0.092060     | 1.000000          | 1.000000            | 0.456655          | 0.453863            |"
      ]
     },
     "metadata": {},
     "output_type": "display_data"
    },
    {
     "data": {
      "text/html": [
       "<pre>+-----------+--------------+-------------------+---------------------+-------------------+---------------------+</pre>"
      ],
      "text/plain": [
       "+-----------+--------------+-------------------+---------------------+-------------------+---------------------+"
      ]
     },
     "metadata": {},
     "output_type": "display_data"
    }
   ],
   "source": [
    "#Creacion de modelo KNN para crear patrón de similaridad\n",
    "#modelo_bike_nn=graphlab.nearest_neighbors.create(TS1, features=['features'])\n",
    "# División de Datos\n",
    "training_data, validation_data = TS1.random_split(0.9)\n",
    "#Creación de Clasificadores\n",
    "#bike_classifier_model_NN = graphlab.neuralnet_classifier.create(training_data, target='label',  features=['features'],\n",
    "                                                                #validation_set=validation_data)\n",
    "bike_classifier_model_BTC=graphlab.boosted_trees_classifier.create(training_data, target='label', features=['features_iter_45', \n",
    "                                                                                                            'features_inceptionv3',\n",
    "                                                                                                           'features_inception21K'],\n",
    "                                                                   max_iterations=10, validation_set=validation_data,\n",
    "                                                                  max_depth=5, step_size=0.5, metric='accuracy', \n",
    "                                                                  early_stopping_rounds=3)\n",
    "#bike_classifier_model_RF= graphlab.random_forest_classifier.create(training_data, target='label', features=['features'],\n",
    "                                                                   #validation_set=validation_data)\n",
    "bike_classifier_model_DT= graphlab.decision_tree_classifier.create(training_data, target='label', features=['features_iter_45', \n",
    "                                                                                                            'features_inceptionv3',\n",
    "                                                                                                           'features_inception21K'],\n",
    "                                                                   validation_set=validation_data)\n",
    "#bike_classifier_model_LR= graphlab.logistic_classifier.create(training_data, target='label', features=['features_iter_45', \n",
    "                                                                                                            #'features_inceptionv3',\n",
    "                                                                                                           #'features_inception21K'],\n",
    "                                                                   #validation_set=validation_data)\n",
    "#bike_classifier_model_SVM= graphlab.svm_classifier.create(training_data, target='label', features=['features_iter_45',\n",
    "                                                                                                    #'features_inceptionv3',\n",
    "                                                                                                    #'features_inception21K'],\n",
    "                                                                   #solver='lbfgs',max_iterations=8,validation_set=validation_data)\n",
    "\n",
    "\n",
    "#Clasificación del Set de Prueba\n",
    "#results_NN=bike_classifier_model_NN.evaluate(Test_d1)\n",
    "results_BTC=bike_classifier_model_BTC.evaluate(Test_d1)\n",
    "#results_RF=bike_classifier_model_RF.evaluate(Test_d1)\n",
    "results_DT=bike_classifier_model_DT.evaluate(Test_d1)\n",
    "#results_LR=bike_classifier_model_LR.evaluate(Test_d1)\n",
    "results_SVM=bike_classifier_model_SVM.evaluate(Test_d1)\n"
   ]
  },
  {
   "cell_type": "code",
   "execution_count": 156,
   "metadata": {
    "collapsed": false
   },
   "outputs": [
    {
     "data": {
      "text/plain": [
       "{'accuracy': 0.9714285714285714, 'auc': 0.96875, 'confusion_matrix': Columns:\n",
       " \ttarget_label\tint\n",
       " \tpredicted_label\tint\n",
       " \tcount\tint\n",
       " \n",
       " Rows: 3\n",
       " \n",
       " Data:\n",
       " +--------------+-----------------+-------+\n",
       " | target_label | predicted_label | count |\n",
       " +--------------+-----------------+-------+\n",
       " |      1       |        0        |   1   |\n",
       " |      1       |        1        |   15  |\n",
       " |      0       |        0        |   19  |\n",
       " +--------------+-----------------+-------+\n",
       " [3 rows x 3 columns], 'f1_score': 0.967741935483871, 'log_loss': 0.3665163140328247, 'precision': 1.0, 'recall': 0.9375, 'roc_curve': Columns:\n",
       " \tthreshold\tfloat\n",
       " \tfpr\tfloat\n",
       " \ttpr\tfloat\n",
       " \tp\tint\n",
       " \tn\tint\n",
       " \n",
       " Rows: 100001\n",
       " \n",
       " Data:\n",
       " +-----------+-----+-----+----+----+\n",
       " | threshold | fpr | tpr | p  | n  |\n",
       " +-----------+-----+-----+----+----+\n",
       " |    0.0    | 1.0 | 1.0 | 16 | 19 |\n",
       " |   1e-05   | 1.0 | 1.0 | 16 | 19 |\n",
       " |   2e-05   | 1.0 | 1.0 | 16 | 19 |\n",
       " |   3e-05   | 1.0 | 1.0 | 16 | 19 |\n",
       " |   4e-05   | 1.0 | 1.0 | 16 | 19 |\n",
       " |   5e-05   | 1.0 | 1.0 | 16 | 19 |\n",
       " |   6e-05   | 1.0 | 1.0 | 16 | 19 |\n",
       " |   7e-05   | 1.0 | 1.0 | 16 | 19 |\n",
       " |   8e-05   | 1.0 | 1.0 | 16 | 19 |\n",
       " |   9e-05   | 1.0 | 1.0 | 16 | 19 |\n",
       " +-----------+-----+-----+----+----+\n",
       " [100001 rows x 5 columns]\n",
       " Note: Only the head of the SFrame is printed.\n",
       " You can use print_rows(num_rows=m, num_columns=n) to print more rows and columns.}"
      ]
     },
     "execution_count": 156,
     "metadata": {},
     "output_type": "execute_result"
    }
   ],
   "source": [
    "results_BTC\n"
   ]
  },
  {
   "cell_type": "code",
   "execution_count": 74,
   "metadata": {
    "collapsed": false
   },
   "outputs": [],
   "source": [
    "\n"
   ]
  },
  {
   "cell_type": "code",
   "execution_count": null,
   "metadata": {
    "collapsed": true
   },
   "outputs": [],
   "source": []
  }
 ],
 "metadata": {
  "kernelspec": {
   "display_name": "Python 2",
   "language": "python",
   "name": "python2"
  },
  "language_info": {
   "codemirror_mode": {
    "name": "ipython",
    "version": 2
   },
   "file_extension": ".py",
   "mimetype": "text/x-python",
   "name": "python",
   "nbconvert_exporter": "python",
   "pygments_lexer": "ipython2",
   "version": "2.7.11"
  }
 },
 "nbformat": 4,
 "nbformat_minor": 0
}
