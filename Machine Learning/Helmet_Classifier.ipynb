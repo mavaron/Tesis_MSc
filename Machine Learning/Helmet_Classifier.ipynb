{
 "cells": [
  {
   "cell_type": "code",
   "execution_count": 2,
   "metadata": {
    "collapsed": false
   },
   "outputs": [
    {
     "name": "stderr",
     "output_type": "stream",
     "text": [
      "[INFO] graphlab.mxnet.base: CUDA support is currently not available on this platform. GPU support is disabled.\n"
     ]
    },
    {
     "name": "stdout",
     "output_type": "stream",
     "text": [
      "This non-commercial license of GraphLab Create for academic use is assigned to ma-varon@uniandes.edu.co and will expire on November 18, 2017.\n"
     ]
    },
    {
     "name": "stderr",
     "output_type": "stream",
     "text": [
      "[INFO] graphlab.cython.cy_server: GraphLab Create v2.1 started. Logging: C:\\Users\\IngMario\\AppData\\Local\\Temp\\graphlab_server_1496103282.log.0\n"
     ]
    },
    {
     "data": {
      "text/html": [
       "<pre>Downloading http://s3.amazonaws.com/GraphLab-Datasets/deeplearning/imagenet_model_iter45/dir_archive.ini to C:/Users/IngMario/AppData/Local/Temp/graphlab-IngMario/2572/aa80bd80-9746-4508-a7e2-a6e5b56a2f62.ini</pre>"
      ],
      "text/plain": [
       "Downloading http://s3.amazonaws.com/GraphLab-Datasets/deeplearning/imagenet_model_iter45/dir_archive.ini to C:/Users/IngMario/AppData/Local/Temp/graphlab-IngMario/2572/aa80bd80-9746-4508-a7e2-a6e5b56a2f62.ini"
      ]
     },
     "metadata": {},
     "output_type": "display_data"
    },
    {
     "data": {
      "text/html": [
       "<pre>Downloading http://s3.amazonaws.com/GraphLab-Datasets/deeplearning/imagenet_model_iter45/objects.bin to C:/Users/IngMario/AppData/Local/Temp/graphlab-IngMario/2572/7b668288-106d-4a52-aa3e-1ad6c4c31526.bin</pre>"
      ],
      "text/plain": [
       "Downloading http://s3.amazonaws.com/GraphLab-Datasets/deeplearning/imagenet_model_iter45/objects.bin to C:/Users/IngMario/AppData/Local/Temp/graphlab-IngMario/2572/7b668288-106d-4a52-aa3e-1ad6c4c31526.bin"
      ]
     },
     "metadata": {},
     "output_type": "display_data"
    }
   ],
   "source": [
    "import graphlab\n",
    "import os\n",
    "from graphlab import mxnet as mx\n",
    "#Limitacion de Hilos\n",
    "graphlab.set_runtime_config('GRAPHLAB_DEFAULT_NUM_PYLAMBDA_WORKERS', 4)\n",
    "#Descarga y guardar el modelo iter45\n",
    "pretrained_model_iter_45=graphlab.load_model('http://s3.amazonaws.com/GraphLab-Datasets/deeplearning/imagenet_model_iter45')\n",
    "pretrained_model_iter_45.save('imagenet_model_iter45')\n",
    "#Carga inception_1k_v3 (https://github.com/dmlc/mxnet-model-gallery/blob/master/imagenet-1k-inception-v3.md)\n",
    "pretrained_model_inceptionv3=mx.pretrained_model.load_path('F:\\\\MSc Misis\\\\4 Semestre\\\\Tesis 1\\\\Modelos\\\\imagenet1k_inception_v3')\n",
    "#Carga inception_21k (https://github.com/dmlc/mxnet-model-gallery/blob/master/imagenet-21k-inception.md)\n",
    "pretrained_model_inception21k=mx.pretrained_model.load_path('F:\\\\MSc Misis\\\\4 Semestre\\\\Tesis 1\\\\Modelos\\\\imagenet21k_inception_bn')"
   ]
  },
  {
   "cell_type": "code",
   "execution_count": 28,
   "metadata": {
    "collapsed": false
   },
   "outputs": [],
   "source": [
    "\n",
    "#creación de SArray para introducir columna de label en Training set\n",
    "def Label_Training_column_set(num_images_Class1,num_label_Class1):\n",
    "    a=[]\n",
    "    b=[num_label_Class1]\n",
    "    i=0\n",
    "    if(i<num_images_Class1):\n",
    "        while (i<num_images_Class1):\n",
    "            a.extend(b)\n",
    "            i=i+1\n",
    "    label_array=graphlab.SArray(data=a, dtype=int)\n",
    "    return label_array\n",
    "\n",
    "\n",
    "\n",
    "#Función Preprocesamiento del Set de Datos de Entrenamiento\n",
    "def Preproc_set(path, number_images_Class, num_label_Class):\n",
    "    Path_images=path \n",
    "    image_sframe = graphlab.image_analysis.load_images(Path_images, \"jpg\", with_path=True,recursive=True)\n",
    "    image_sframe['resized']=graphlab.image_analysis.resize(image_sframe['image'], 200, 200, 1)\n",
    "    label_array=Label_Training_column_set(number_images_Class,num_label_Class )\n",
    "    image_sframe.add_column(label_array, name='label')\n",
    "    return image_sframe\n",
    "              \n",
    "#Carga de los datos\n",
    "TS1= Preproc_set(\"C:\\\\Users\\\\IngMario\\\\Documents\\\\Data\\\\Untitled Folder\\\\DS_Casco\",40,1)\n",
    "TS2= Preproc_set(\"C:\\\\Users\\\\IngMario\\\\Documents\\\\Data\\\\Untitled Folder\\\\DS_Sin_Casco\",37,0)\n",
    "TS1=TS1.append(TS2)\n",
    "\n",
    "Test_d1= Preproc_set(\"C:\\\\Users\\\\IngMario\\\\Documents\\\\Data\\\\Untitled Folder\\\\DS_Test_Casco\",20,1)\n",
    "Test_d2= Preproc_set(\"C:\\\\Users\\\\IngMario\\\\Documents\\\\Data\\\\Untitled Folder\\\\DS_Test_Sin_Casco\",14,0)\n",
    "Test_d1=Test_d1.append(Test_d2)\n",
    "\n"
   ]
  },
  {
   "cell_type": "code",
   "execution_count": 4,
   "metadata": {
    "collapsed": true
   },
   "outputs": [],
   "source": [
    "#Carga de modelos\n",
    "pretrained_model_iter_45=graphlab.load_model('imagenet_model_iter45')"
   ]
  },
  {
   "cell_type": "code",
   "execution_count": 29,
   "metadata": {
    "collapsed": false
   },
   "outputs": [
    {
     "data": {
      "text/html": [
       "<pre>Images being resized.</pre>"
      ],
      "text/plain": [
       "Images being resized."
      ]
     },
     "metadata": {},
     "output_type": "display_data"
    },
    {
     "name": "stderr",
     "output_type": "stream",
     "text": [
      "[INFO] graphlab.mxnet.pretrained_model: Detect image shape mismatches network input shape. Perform resize to shape (299, 299, 3)\n",
      "[INFO] graphlab.mxnet.pretrained_model: Detect image shape mismatches network input shape. Perform resize to shape (224, 224, 3)\n"
     ]
    },
    {
     "data": {
      "text/html": [
       "<pre>Images being resized.</pre>"
      ],
      "text/plain": [
       "Images being resized."
      ]
     },
     "metadata": {},
     "output_type": "display_data"
    },
    {
     "name": "stderr",
     "output_type": "stream",
     "text": [
      "[INFO] graphlab.mxnet.pretrained_model: Detect image shape mismatches network input shape. Perform resize to shape (299, 299, 3)\n",
      "[INFO] graphlab.mxnet.pretrained_model: Detect image shape mismatches network input shape. Perform resize to shape (224, 224, 3)\n"
     ]
    }
   ],
   "source": [
    "#Extracción de Caracerísticas de DataSet de Entrenamiento y Prueba con modelos iter_45, inceptionv3, inception21k\n",
    "TS1['features_iter_45']= pretrained_model_iter_45.extract_features(TS1[['image']])\n",
    "TS1['features_inceptionv3']= pretrained_model_inceptionv3.extract_features(TS1[['image']])\n",
    "TS1['features_inception21K']= pretrained_model_inception21k.extract_features(TS1[['image']])\n",
    "Test_d1['features_iter_45']= pretrained_model_iter_45.extract_features(Test_d1[['image']])\n",
    "Test_d1['features_inceptionv3']= pretrained_model_inceptionv3.extract_features(Test_d1[['image']])\n",
    "Test_d1['features_inception21K']= pretrained_model_inception21k.extract_features(Test_d1[['image']])\n",
    "TS1.save('TS.sframe')\n",
    "Test_d1.save('Test_d.sframe')"
   ]
  },
  {
   "cell_type": "code",
   "execution_count": 30,
   "metadata": {
    "collapsed": false
   },
   "outputs": [
    {
     "name": "stdout",
     "output_type": "stream",
     "text": [
      "Using network:\n",
      "\n",
      "### network layers ###\n",
      "layer[0]: FullConnectionLayer\n",
      "  init_sigma = 0.01\n",
      "  init_random = gaussian\n",
      "  init_bias = 0\n",
      "  num_hidden_units = 10\n",
      "layer[1]: SigmoidLayer\n",
      "layer[2]: FullConnectionLayer\n",
      "  init_sigma = 0.01\n",
      "  init_random = gaussian\n",
      "  init_bias = 0\n",
      "  num_hidden_units = 2\n",
      "layer[3]: SoftmaxLayer\n",
      "### end network layers ###\n",
      "\n",
      "### network parameters ###\n",
      "learning_rate = 0.001\n",
      "momentum = 0.9\n",
      "### end network parameters ###\n",
      "\n"
     ]
    },
    {
     "data": {
      "text/html": [
       "<pre>Creating neuralnet using cpu</pre>"
      ],
      "text/plain": [
       "Creating neuralnet using cpu"
      ]
     },
     "metadata": {},
     "output_type": "display_data"
    },
    {
     "data": {
      "text/html": [
       "<pre>Training with batch size = 66</pre>"
      ],
      "text/plain": [
       "Training with batch size = 66"
      ]
     },
     "metadata": {},
     "output_type": "display_data"
    },
    {
     "data": {
      "text/html": [
       "<pre>+-----------+----------+--------------+-------------------+---------------------+-----------------+</pre>"
      ],
      "text/plain": [
       "+-----------+----------+--------------+-------------------+---------------------+-----------------+"
      ]
     },
     "metadata": {},
     "output_type": "display_data"
    },
    {
     "data": {
      "text/html": [
       "<pre>| Iteration | Examples | Elapsed Time | Training-accuracy | Validation-accuracy | Examples/second |</pre>"
      ],
      "text/plain": [
       "| Iteration | Examples | Elapsed Time | Training-accuracy | Validation-accuracy | Examples/second |"
      ]
     },
     "metadata": {},
     "output_type": "display_data"
    },
    {
     "data": {
      "text/html": [
       "<pre>+-----------+----------+--------------+-------------------+---------------------+-----------------+</pre>"
      ],
      "text/plain": [
       "+-----------+----------+--------------+-------------------+---------------------+-----------------+"
      ]
     },
     "metadata": {},
     "output_type": "display_data"
    },
    {
     "data": {
      "text/html": [
       "<pre>| 1         | 66       | 0.183318     | 0.290000          | 0.727273            | 360.058868      |</pre>"
      ],
      "text/plain": [
       "| 1         | 66       | 0.183318     | 0.290000          | 0.727273            | 360.058868      |"
      ]
     },
     "metadata": {},
     "output_type": "display_data"
    },
    {
     "data": {
      "text/html": [
       "<pre>| 2         | 66       | 0.250230     | 0.290000          | 0.727273            | 988.037476      |</pre>"
      ],
      "text/plain": [
       "| 2         | 66       | 0.250230     | 0.290000          | 0.727273            | 988.037476      |"
      ]
     },
     "metadata": {},
     "output_type": "display_data"
    },
    {
     "data": {
      "text/html": [
       "<pre>| 3         | 66       | 0.312344     | 0.290000          | 0.727273            | 1064.430786     |</pre>"
      ],
      "text/plain": [
       "| 3         | 66       | 0.312344     | 0.290000          | 0.727273            | 1064.430786     |"
      ]
     },
     "metadata": {},
     "output_type": "display_data"
    },
    {
     "data": {
      "text/html": [
       "<pre>| 4         | 66       | 0.375267     | 0.290000          | 0.727273            | 1051.705078     |</pre>"
      ],
      "text/plain": [
       "| 4         | 66       | 0.375267     | 0.290000          | 0.727273            | 1051.705078     |"
      ]
     },
     "metadata": {},
     "output_type": "display_data"
    },
    {
     "data": {
      "text/html": [
       "<pre>| 5         | 66       | 0.451297     | 0.290000          | 0.727273            | 869.069397      |</pre>"
      ],
      "text/plain": [
       "| 5         | 66       | 0.451297     | 0.290000          | 0.727273            | 869.069397      |"
      ]
     },
     "metadata": {},
     "output_type": "display_data"
    },
    {
     "data": {
      "text/html": [
       "<pre>| 6         | 66       | 0.514054     | 0.290000          | 0.727273            | 1053.296509     |</pre>"
      ],
      "text/plain": [
       "| 6         | 66       | 0.514054     | 0.290000          | 0.727273            | 1053.296509     |"
      ]
     },
     "metadata": {},
     "output_type": "display_data"
    },
    {
     "data": {
      "text/html": [
       "<pre>| 7         | 66       | 0.575871     | 0.300000          | 0.363636            | 1069.355347     |</pre>"
      ],
      "text/plain": [
       "| 7         | 66       | 0.575871     | 0.300000          | 0.363636            | 1069.355347     |"
      ]
     },
     "metadata": {},
     "output_type": "display_data"
    },
    {
     "data": {
      "text/html": [
       "<pre>| 8         | 66       | 0.638095     | 0.720000          | 0.272727            | 1062.336182     |</pre>"
      ],
      "text/plain": [
       "| 8         | 66       | 0.638095     | 0.720000          | 0.272727            | 1062.336182     |"
      ]
     },
     "metadata": {},
     "output_type": "display_data"
    },
    {
     "data": {
      "text/html": [
       "<pre>| 9         | 66       | 0.709314     | 0.710000          | 0.272727            | 928.135376      |</pre>"
      ],
      "text/plain": [
       "| 9         | 66       | 0.709314     | 0.710000          | 0.272727            | 928.135376      |"
      ]
     },
     "metadata": {},
     "output_type": "display_data"
    },
    {
     "data": {
      "text/html": [
       "<pre>| 10        | 66       | 0.768861     | 0.710000          | 0.272727            | 1110.508911     |</pre>"
      ],
      "text/plain": [
       "| 10        | 66       | 0.768861     | 0.710000          | 0.272727            | 1110.508911     |"
      ]
     },
     "metadata": {},
     "output_type": "display_data"
    },
    {
     "data": {
      "text/html": [
       "<pre>+-----------+----------+--------------+-------------------+---------------------+-----------------+</pre>"
      ],
      "text/plain": [
       "+-----------+----------+--------------+-------------------+---------------------+-----------------+"
      ]
     },
     "metadata": {},
     "output_type": "display_data"
    },
    {
     "data": {
      "text/html": [
       "<pre>WARNING: The number of feature dimensions in this problem is very large in comparison with the number of examples. Unless an appropriate regularization value is set, this model may not provide accurate predictions for a validation/test set.</pre>"
      ],
      "text/plain": [
       "WARNING: The number of feature dimensions in this problem is very large in comparison with the number of examples. Unless an appropriate regularization value is set, this model may not provide accurate predictions for a validation/test set."
      ]
     },
     "metadata": {},
     "output_type": "display_data"
    },
    {
     "data": {
      "text/html": [
       "<pre>WARNING: Detected extremely low variance for feature(s) 'features_iter_45' because all entries are nearly the same.\n",
       "Proceeding with model training using all features. If the model does not provide results of adequate quality, exclude the above mentioned feature(s) from the input dataset.</pre>"
      ],
      "text/plain": [
       "WARNING: Detected extremely low variance for feature(s) 'features_iter_45' because all entries are nearly the same.\n",
       "Proceeding with model training using all features. If the model does not provide results of adequate quality, exclude the above mentioned feature(s) from the input dataset."
      ]
     },
     "metadata": {},
     "output_type": "display_data"
    },
    {
     "data": {
      "text/html": [
       "<pre>Decision tree classifier:</pre>"
      ],
      "text/plain": [
       "Decision tree classifier:"
      ]
     },
     "metadata": {},
     "output_type": "display_data"
    },
    {
     "data": {
      "text/html": [
       "<pre>--------------------------------------------------------</pre>"
      ],
      "text/plain": [
       "--------------------------------------------------------"
      ]
     },
     "metadata": {},
     "output_type": "display_data"
    },
    {
     "data": {
      "text/html": [
       "<pre>Number of examples          : 66</pre>"
      ],
      "text/plain": [
       "Number of examples          : 66"
      ]
     },
     "metadata": {},
     "output_type": "display_data"
    },
    {
     "data": {
      "text/html": [
       "<pre>Number of classes           : 2</pre>"
      ],
      "text/plain": [
       "Number of classes           : 2"
      ]
     },
     "metadata": {},
     "output_type": "display_data"
    },
    {
     "data": {
      "text/html": [
       "<pre>Number of feature columns   : 3</pre>"
      ],
      "text/plain": [
       "Number of feature columns   : 3"
      ]
     },
     "metadata": {},
     "output_type": "display_data"
    },
    {
     "data": {
      "text/html": [
       "<pre>Number of unpacked features : 7168</pre>"
      ],
      "text/plain": [
       "Number of unpacked features : 7168"
      ]
     },
     "metadata": {},
     "output_type": "display_data"
    },
    {
     "data": {
      "text/html": [
       "<pre>+-----------+--------------+-------------------+---------------------+-------------------+---------------------+</pre>"
      ],
      "text/plain": [
       "+-----------+--------------+-------------------+---------------------+-------------------+---------------------+"
      ]
     },
     "metadata": {},
     "output_type": "display_data"
    },
    {
     "data": {
      "text/html": [
       "<pre>| Iteration | Elapsed Time | Training-accuracy | Validation-accuracy | Training-log_loss | Validation-log_loss |</pre>"
      ],
      "text/plain": [
       "| Iteration | Elapsed Time | Training-accuracy | Validation-accuracy | Training-log_loss | Validation-log_loss |"
      ]
     },
     "metadata": {},
     "output_type": "display_data"
    },
    {
     "data": {
      "text/html": [
       "<pre>+-----------+--------------+-------------------+---------------------+-------------------+---------------------+</pre>"
      ],
      "text/plain": [
       "+-----------+--------------+-------------------+---------------------+-------------------+---------------------+"
      ]
     },
     "metadata": {},
     "output_type": "display_data"
    },
    {
     "data": {
      "text/html": [
       "<pre>| 1         | 0.089564     | 1.000000          | 0.909091            | 0.473895          | 0.513761            |</pre>"
      ],
      "text/plain": [
       "| 1         | 0.089564     | 1.000000          | 0.909091            | 0.473895          | 0.513761            |"
      ]
     },
     "metadata": {},
     "output_type": "display_data"
    },
    {
     "data": {
      "text/html": [
       "<pre>+-----------+--------------+-------------------+---------------------+-------------------+---------------------+</pre>"
      ],
      "text/plain": [
       "+-----------+--------------+-------------------+---------------------+-------------------+---------------------+"
      ]
     },
     "metadata": {},
     "output_type": "display_data"
    },
    {
     "data": {
      "text/html": [
       "<pre>WARNING: The number of feature dimensions in this problem is very large in comparison with the number of examples. Unless an appropriate regularization value is set, this model may not provide accurate predictions for a validation/test set.</pre>"
      ],
      "text/plain": [
       "WARNING: The number of feature dimensions in this problem is very large in comparison with the number of examples. Unless an appropriate regularization value is set, this model may not provide accurate predictions for a validation/test set."
      ]
     },
     "metadata": {},
     "output_type": "display_data"
    },
    {
     "data": {
      "text/html": [
       "<pre>WARNING: Detected extremely low variance for feature(s) 'features_iter_45' because all entries are nearly the same.\n",
       "Proceeding with model training using all features. If the model does not provide results of adequate quality, exclude the above mentioned feature(s) from the input dataset.</pre>"
      ],
      "text/plain": [
       "WARNING: Detected extremely low variance for feature(s) 'features_iter_45' because all entries are nearly the same.\n",
       "Proceeding with model training using all features. If the model does not provide results of adequate quality, exclude the above mentioned feature(s) from the input dataset."
      ]
     },
     "metadata": {},
     "output_type": "display_data"
    },
    {
     "data": {
      "text/html": [
       "<pre>Boosted trees classifier:</pre>"
      ],
      "text/plain": [
       "Boosted trees classifier:"
      ]
     },
     "metadata": {},
     "output_type": "display_data"
    },
    {
     "data": {
      "text/html": [
       "<pre>--------------------------------------------------------</pre>"
      ],
      "text/plain": [
       "--------------------------------------------------------"
      ]
     },
     "metadata": {},
     "output_type": "display_data"
    },
    {
     "data": {
      "text/html": [
       "<pre>Number of examples          : 66</pre>"
      ],
      "text/plain": [
       "Number of examples          : 66"
      ]
     },
     "metadata": {},
     "output_type": "display_data"
    },
    {
     "data": {
      "text/html": [
       "<pre>Number of classes           : 2</pre>"
      ],
      "text/plain": [
       "Number of classes           : 2"
      ]
     },
     "metadata": {},
     "output_type": "display_data"
    },
    {
     "data": {
      "text/html": [
       "<pre>Number of feature columns   : 3</pre>"
      ],
      "text/plain": [
       "Number of feature columns   : 3"
      ]
     },
     "metadata": {},
     "output_type": "display_data"
    },
    {
     "data": {
      "text/html": [
       "<pre>Number of unpacked features : 7168</pre>"
      ],
      "text/plain": [
       "Number of unpacked features : 7168"
      ]
     },
     "metadata": {},
     "output_type": "display_data"
    },
    {
     "data": {
      "text/html": [
       "<pre>+-----------+--------------+-------------------+---------------------+</pre>"
      ],
      "text/plain": [
       "+-----------+--------------+-------------------+---------------------+"
      ]
     },
     "metadata": {},
     "output_type": "display_data"
    },
    {
     "data": {
      "text/html": [
       "<pre>| Iteration | Elapsed Time | Training-accuracy | Validation-accuracy |</pre>"
      ],
      "text/plain": [
       "| Iteration | Elapsed Time | Training-accuracy | Validation-accuracy |"
      ]
     },
     "metadata": {},
     "output_type": "display_data"
    },
    {
     "data": {
      "text/html": [
       "<pre>+-----------+--------------+-------------------+---------------------+</pre>"
      ],
      "text/plain": [
       "+-----------+--------------+-------------------+---------------------+"
      ]
     },
     "metadata": {},
     "output_type": "display_data"
    },
    {
     "data": {
      "text/html": [
       "<pre>| 1         | 0.039027     | 1.000000          | 0.909091            |</pre>"
      ],
      "text/plain": [
       "| 1         | 0.039027     | 1.000000          | 0.909091            |"
      ]
     },
     "metadata": {},
     "output_type": "display_data"
    },
    {
     "data": {
      "text/html": [
       "<pre>| 2         | 0.091064     | 1.000000          | 0.909091            |</pre>"
      ],
      "text/plain": [
       "| 2         | 0.091064     | 1.000000          | 0.909091            |"
      ]
     },
     "metadata": {},
     "output_type": "display_data"
    },
    {
     "data": {
      "text/html": [
       "<pre>| 3         | 0.217470     | 1.000000          | 1.000000            |</pre>"
      ],
      "text/plain": [
       "| 3         | 0.217470     | 1.000000          | 1.000000            |"
      ]
     },
     "metadata": {},
     "output_type": "display_data"
    },
    {
     "data": {
      "text/html": [
       "<pre>| 4         | 0.275330     | 1.000000          | 0.909091            |</pre>"
      ],
      "text/plain": [
       "| 4         | 0.275330     | 1.000000          | 0.909091            |"
      ]
     },
     "metadata": {},
     "output_type": "display_data"
    },
    {
     "data": {
      "text/html": [
       "<pre>| 5         | 0.342345     | 1.000000          | 0.909091            |</pre>"
      ],
      "text/plain": [
       "| 5         | 0.342345     | 1.000000          | 0.909091            |"
      ]
     },
     "metadata": {},
     "output_type": "display_data"
    },
    {
     "data": {
      "text/html": [
       "<pre>| 6         | 0.376873     | 1.000000          | 0.909091            |</pre>"
      ],
      "text/plain": [
       "| 6         | 0.376873     | 1.000000          | 0.909091            |"
      ]
     },
     "metadata": {},
     "output_type": "display_data"
    },
    {
     "data": {
      "text/html": [
       "<pre>+-----------+--------------+-------------------+---------------------+</pre>"
      ],
      "text/plain": [
       "+-----------+--------------+-------------------+---------------------+"
      ]
     },
     "metadata": {},
     "output_type": "display_data"
    },
    {
     "data": {
      "text/html": [
       "<pre>Early stop triggered. Returning the best model at iteration: 3</pre>"
      ],
      "text/plain": [
       "Early stop triggered. Returning the best model at iteration: 3"
      ]
     },
     "metadata": {},
     "output_type": "display_data"
    },
    {
     "data": {
      "text/html": [
       "<pre>WARNING: The number of feature dimensions in this problem is very large in comparison with the number of examples. Unless an appropriate regularization value is set, this model may not provide accurate predictions for a validation/test set.</pre>"
      ],
      "text/plain": [
       "WARNING: The number of feature dimensions in this problem is very large in comparison with the number of examples. Unless an appropriate regularization value is set, this model may not provide accurate predictions for a validation/test set."
      ]
     },
     "metadata": {},
     "output_type": "display_data"
    },
    {
     "data": {
      "text/html": [
       "<pre>WARNING: Detected extremely low variance for feature(s) 'features_iter_45' because all entries are nearly the same.\n",
       "Proceeding with model training using all features. If the model does not provide results of adequate quality, exclude the above mentioned feature(s) from the input dataset.</pre>"
      ],
      "text/plain": [
       "WARNING: Detected extremely low variance for feature(s) 'features_iter_45' because all entries are nearly the same.\n",
       "Proceeding with model training using all features. If the model does not provide results of adequate quality, exclude the above mentioned feature(s) from the input dataset."
      ]
     },
     "metadata": {},
     "output_type": "display_data"
    },
    {
     "data": {
      "text/html": [
       "<pre>SVM:</pre>"
      ],
      "text/plain": [
       "SVM:"
      ]
     },
     "metadata": {},
     "output_type": "display_data"
    },
    {
     "data": {
      "text/html": [
       "<pre>--------------------------------------------------------</pre>"
      ],
      "text/plain": [
       "--------------------------------------------------------"
      ]
     },
     "metadata": {},
     "output_type": "display_data"
    },
    {
     "data": {
      "text/html": [
       "<pre>Number of examples          : 66</pre>"
      ],
      "text/plain": [
       "Number of examples          : 66"
      ]
     },
     "metadata": {},
     "output_type": "display_data"
    },
    {
     "data": {
      "text/html": [
       "<pre>Number of classes           : 2</pre>"
      ],
      "text/plain": [
       "Number of classes           : 2"
      ]
     },
     "metadata": {},
     "output_type": "display_data"
    },
    {
     "data": {
      "text/html": [
       "<pre>Number of feature columns   : 3</pre>"
      ],
      "text/plain": [
       "Number of feature columns   : 3"
      ]
     },
     "metadata": {},
     "output_type": "display_data"
    },
    {
     "data": {
      "text/html": [
       "<pre>Number of unpacked features : 7168</pre>"
      ],
      "text/plain": [
       "Number of unpacked features : 7168"
      ]
     },
     "metadata": {},
     "output_type": "display_data"
    },
    {
     "data": {
      "text/html": [
       "<pre>Number of coefficients    : 7169</pre>"
      ],
      "text/plain": [
       "Number of coefficients    : 7169"
      ]
     },
     "metadata": {},
     "output_type": "display_data"
    },
    {
     "data": {
      "text/html": [
       "<pre>Starting L-BFGS</pre>"
      ],
      "text/plain": [
       "Starting L-BFGS"
      ]
     },
     "metadata": {},
     "output_type": "display_data"
    },
    {
     "data": {
      "text/html": [
       "<pre>--------------------------------------------------------</pre>"
      ],
      "text/plain": [
       "--------------------------------------------------------"
      ]
     },
     "metadata": {},
     "output_type": "display_data"
    },
    {
     "data": {
      "text/html": [
       "<pre>+-----------+----------+-----------+--------------+-------------------+---------------------+</pre>"
      ],
      "text/plain": [
       "+-----------+----------+-----------+--------------+-------------------+---------------------+"
      ]
     },
     "metadata": {},
     "output_type": "display_data"
    },
    {
     "data": {
      "text/html": [
       "<pre>| Iteration | Passes   | Step size | Elapsed Time | Training-accuracy | Validation-accuracy |</pre>"
      ],
      "text/plain": [
       "| Iteration | Passes   | Step size | Elapsed Time | Training-accuracy | Validation-accuracy |"
      ]
     },
     "metadata": {},
     "output_type": "display_data"
    },
    {
     "data": {
      "text/html": [
       "<pre>+-----------+----------+-----------+--------------+-------------------+---------------------+</pre>"
      ],
      "text/plain": [
       "+-----------+----------+-----------+--------------+-------------------+---------------------+"
      ]
     },
     "metadata": {},
     "output_type": "display_data"
    },
    {
     "data": {
      "text/html": [
       "<pre>| 1         | 7        | 0.000327  | 0.521896     | 0.681818          | 0.272727            |</pre>"
      ],
      "text/plain": [
       "| 1         | 7        | 0.000327  | 0.521896     | 0.681818          | 0.272727            |"
      ]
     },
     "metadata": {},
     "output_type": "display_data"
    },
    {
     "data": {
      "text/html": [
       "<pre>| 2         | 9        | 1.000000  | 0.633975     | 1.000000          | 0.727273            |</pre>"
      ],
      "text/plain": [
       "| 2         | 9        | 1.000000  | 0.633975     | 1.000000          | 0.727273            |"
      ]
     },
     "metadata": {},
     "output_type": "display_data"
    },
    {
     "data": {
      "text/html": [
       "<pre>| 3         | 10       | 1.000000  | 0.676004     | 1.000000          | 0.727273            |</pre>"
      ],
      "text/plain": [
       "| 3         | 10       | 1.000000  | 0.676004     | 1.000000          | 0.727273            |"
      ]
     },
     "metadata": {},
     "output_type": "display_data"
    },
    {
     "data": {
      "text/html": [
       "<pre>| 4         | 11       | 1.000000  | 0.716033     | 1.000000          | 0.727273            |</pre>"
      ],
      "text/plain": [
       "| 4         | 11       | 1.000000  | 0.716033     | 1.000000          | 0.727273            |"
      ]
     },
     "metadata": {},
     "output_type": "display_data"
    },
    {
     "data": {
      "text/html": [
       "<pre>| 5         | 12       | 1.000000  | 0.753059     | 0.969697          | 0.909091            |</pre>"
      ],
      "text/plain": [
       "| 5         | 12       | 1.000000  | 0.753059     | 0.969697          | 0.909091            |"
      ]
     },
     "metadata": {},
     "output_type": "display_data"
    },
    {
     "data": {
      "text/html": [
       "<pre>| 6         | 14       | 1.000000  | 0.807599     | 1.000000          | 0.909091            |</pre>"
      ],
      "text/plain": [
       "| 6         | 14       | 1.000000  | 0.807599     | 1.000000          | 0.909091            |"
      ]
     },
     "metadata": {},
     "output_type": "display_data"
    },
    {
     "data": {
      "text/html": [
       "<pre>+-----------+----------+-----------+--------------+-------------------+---------------------+</pre>"
      ],
      "text/plain": [
       "+-----------+----------+-----------+--------------+-------------------+---------------------+"
      ]
     },
     "metadata": {},
     "output_type": "display_data"
    },
    {
     "data": {
      "text/html": [
       "<pre>TERMINATED: Iteration limit reached.</pre>"
      ],
      "text/plain": [
       "TERMINATED: Iteration limit reached."
      ]
     },
     "metadata": {},
     "output_type": "display_data"
    },
    {
     "data": {
      "text/html": [
       "<pre>This model may not be optimal. To improve it, consider increasing `max_iterations`.</pre>"
      ],
      "text/plain": [
       "This model may not be optimal. To improve it, consider increasing `max_iterations`."
      ]
     },
     "metadata": {},
     "output_type": "display_data"
    }
   ],
   "source": [
    "training_data, validation_data = TS1.random_split(0.9)\n",
    "helmet_classifier_model_NN = graphlab.neuralnet_classifier.create(training_data, target='label',  features=['features_iter_45', \n",
    "                                                                                                            'features_inceptionv3',\n",
    "                                                                                                           'features_inception21K'],\n",
    "                                                                validation_set=validation_data)\n",
    "helmet_classifier_model_DT = graphlab.decision_tree_classifier.create(training_data, target='label', features=['features_iter_45', \n",
    "                                                                                                            'features_inceptionv3',\n",
    "                                                                                                           'features_inception21K'],\n",
    "                                                                   validation_set=validation_data)\n",
    "helmet_classifier_model_BTC=graphlab.boosted_trees_classifier.create(training_data, target='label', features=['features_iter_45', \n",
    "                                                                                                            'features_inceptionv3',\n",
    "                                                                                                           'features_inception21K'],\n",
    "                                                                   max_iterations=10, validation_set=validation_data,\n",
    "                                                                  max_depth=5, step_size=0.5, metric='accuracy', \n",
    "                                                                  early_stopping_rounds=3)\n",
    "helmet_classifier_model_SVM= graphlab.svm_classifier.create(training_data, target='label', features=['features_iter_45',\n",
    "                                                                                                    'features_inceptionv3',\n",
    "                                                                                                    'features_inception21K'],\n",
    "                                                                   solver='lbfgs',max_iterations=8,validation_set=validation_data)"
   ]
  },
  {
   "cell_type": "code",
   "execution_count": 32,
   "metadata": {
    "collapsed": false
   },
   "outputs": [
    {
     "data": {
      "text/plain": [
       "{'accuracy': 0.8529411764705882, 'confusion_matrix': Columns:\n",
       " \ttarget_label\tint\n",
       " \tpredicted_label\tint\n",
       " \tcount\tint\n",
       " \n",
       " Rows: 4\n",
       " \n",
       " Data:\n",
       " +--------------+-----------------+-------+\n",
       " | target_label | predicted_label | count |\n",
       " +--------------+-----------------+-------+\n",
       " |      1       |        1        |   18  |\n",
       " |      1       |        0        |   2   |\n",
       " |      0       |        1        |   3   |\n",
       " |      0       |        0        |   11  |\n",
       " +--------------+-----------------+-------+\n",
       " [4 rows x 3 columns], 'f1_score': 0.8780487804878048, 'precision': 0.8571428571428571, 'recall': 0.9}"
      ]
     },
     "execution_count": 32,
     "metadata": {},
     "output_type": "execute_result"
    }
   ],
   "source": [
    "results_NN=helmet_classifier_model_NN.evaluate(Test_d1)\n",
    "results_DT=helmet_classifier_model_DT.evaluate(Test_d1)\n",
    "results_BTC=helmet_classifier_model_BTC.evaluate(Test_d1)\n",
    "results_SVM=helmet_classifier_model_SVM.evaluate(Test_d1)\n",
    "\n",
    "results_SVM"
   ]
  },
  {
   "cell_type": "code",
   "execution_count": null,
   "metadata": {
    "collapsed": true
   },
   "outputs": [],
   "source": []
  }
 ],
 "metadata": {
  "kernelspec": {
   "display_name": "Python 2",
   "language": "python",
   "name": "python2"
  },
  "language_info": {
   "codemirror_mode": {
    "name": "ipython",
    "version": 2
   },
   "file_extension": ".py",
   "mimetype": "text/x-python",
   "name": "python",
   "nbconvert_exporter": "python",
   "pygments_lexer": "ipython2",
   "version": "2.7.11"
  }
 },
 "nbformat": 4,
 "nbformat_minor": 0
}
